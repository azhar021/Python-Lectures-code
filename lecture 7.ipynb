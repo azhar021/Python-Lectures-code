{
 "cells": [
  {
   "cell_type": "code",
   "execution_count": 1,
   "metadata": {},
   "outputs": [
    {
     "name": "stdout",
     "output_type": "stream",
     "text": [
      "5\n"
     ]
    }
   ],
   "source": [
    "# Nested if Programe\n",
    "a = 2  # initiallize a = 2\n",
    "b = 2\n",
    "c = 3\n",
    "d = 4\n",
    "e = 5\n",
    "f = 6\n",
    "g = 8\n",
    "h = 8\n",
    "i = 9\n",
    "\n",
    "if a==b :\n",
    "    \n",
    "    if c==d:\n",
    "        e=f        # set e=f\n",
    "        print(e)\n",
    "    elif g==h:\n",
    "        f=e\n",
    "        print(f)\n",
    "    else:\n",
    "        i = a\n",
    "        print(i)\n",
    "\n",
    "else:\n",
    "    a=i\n",
    "    print(a)"
   ]
  },
  {
   "cell_type": "code",
   "execution_count": 12,
   "metadata": {},
   "outputs": [
    {
     "name": "stdout",
     "output_type": "stream",
     "text": [
      "5\n"
     ]
    }
   ],
   "source": [
    "'''Nested if Programe in python\n",
    "in Python'''\n",
    "a = 2  # initiallize a = 2\n",
    "b = 2\n",
    "c = 3\n",
    "d = 4\n",
    "e = 5\n",
    "f = 6\n",
    "g = 8\n",
    "h = 8\n",
    "i = 9\n",
    "\n",
    "if a==b :\n",
    "    \n",
    "    if c==d:\n",
    "        e=f        # set e=f\n",
    "        print(e)\n",
    "    elif g==h:\n",
    "        f=e\n",
    "        print(f)\n",
    "    else:\n",
    "        i = a\n",
    "        print(i)\n",
    "\n",
    "else:\n",
    "    a=i\n",
    "    print(a)"
   ]
  },
  {
   "cell_type": "code",
   "execution_count": null,
   "metadata": {},
   "outputs": [],
   "source": []
  }
 ],
 "metadata": {
  "kernelspec": {
   "display_name": "Python 3",
   "language": "python",
   "name": "python3"
  },
  "language_info": {
   "codemirror_mode": {
    "name": "ipython",
    "version": 3
   },
   "file_extension": ".py",
   "mimetype": "text/x-python",
   "name": "python",
   "nbconvert_exporter": "python",
   "pygments_lexer": "ipython3",
   "version": "3.7.4"
  }
 },
 "nbformat": 4,
 "nbformat_minor": 2
}
