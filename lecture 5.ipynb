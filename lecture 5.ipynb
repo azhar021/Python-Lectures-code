{
 "cells": [
  {
   "cell_type": "code",
   "execution_count": 4,
   "metadata": {},
   "outputs": [
    {
     "name": "stdout",
     "output_type": "stream",
     "text": [
      "What language are you studing right now?Python\n"
     ]
    }
   ],
   "source": [
    "lang = input(\"What language are you studing right now?\")\n",
    "if lang==\"python\" :\n",
    "    print(\"Great\")\n",
    "    print(\"You are Geneous\")\n",
    "\n"
   ]
  },
  {
   "cell_type": "code",
   "execution_count": 6,
   "metadata": {},
   "outputs": [],
   "source": [
    "if 2+2 == 5:\n",
    "    print(\"Correct\")"
   ]
  },
  {
   "cell_type": "code",
   "execution_count": 7,
   "metadata": {},
   "outputs": [
    {
     "name": "stdout",
     "output_type": "stream",
     "text": [
      "Correct\n"
     ]
    }
   ],
   "source": [
    "if 2+2 != 5:\n",
    "    print(\"Correct\")"
   ]
  },
  {
   "cell_type": "code",
   "execution_count": 11,
   "metadata": {},
   "outputs": [
    {
     "name": "stdout",
     "output_type": "stream",
     "text": [
      "What is you age?22\n",
      "You are eligible for vote casting\n"
     ]
    }
   ],
   "source": [
    "age = int(input(\"What is you age?\"))\n",
    "if age>= 18:\n",
    "    print(\"You are eligible for vote casting\")\n",
    "else :\n",
    "    print(\"You are not eligible for vote casting\")"
   ]
  },
  {
   "cell_type": "code",
   "execution_count": 14,
   "metadata": {},
   "outputs": [
    {
     "name": "stdout",
     "output_type": "stream",
     "text": [
      "Enter your percentage45\n",
      "Sorry you are fail\n"
     ]
    }
   ],
   "source": [
    "per = float(input(\"Enter your percentage\"))\n",
    "if per >= 80 :\n",
    "    print(\"You secure A+ grade\")\n",
    "elif per >= 70 :\n",
    "    print(\"You secure A grade\")\n",
    "elif per >= 60 :\n",
    "    print(\"You secure B grade\")\n",
    "elif per >=50 :\n",
    "    print(\"You secure C grade\")\n",
    "else :\n",
    "    print(\"Sorry you are fail\")"
   ]
  },
  {
   "cell_type": "code",
   "execution_count": null,
   "metadata": {},
   "outputs": [],
   "source": []
  }
 ],
 "metadata": {
  "kernelspec": {
   "display_name": "Python 3",
   "language": "python",
   "name": "python3"
  },
  "language_info": {
   "codemirror_mode": {
    "name": "ipython",
    "version": 3
   },
   "file_extension": ".py",
   "mimetype": "text/x-python",
   "name": "python",
   "nbconvert_exporter": "python",
   "pygments_lexer": "ipython3",
   "version": "3.7.4"
  }
 },
 "nbformat": 4,
 "nbformat_minor": 2
}
